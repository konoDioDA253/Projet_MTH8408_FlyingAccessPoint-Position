{
 "cells": [
  {
   "attachments": {},
   "cell_type": "markdown",
   "metadata": {},
   "source": [
    " # MTH8408 : Méthodes d'optimisation et contrôle optimal"
   ]
  },
  {
   "attachments": {},
   "cell_type": "markdown",
   "metadata": {},
   "source": [
    " ## Projet de session - ABDILLAHI & BÉLANGER"
   ]
  },
  {
   "attachments": {},
   "cell_type": "markdown",
   "metadata": {},
   "source": [
    "# 1re partie\n",
    "Modélisation du problème\n",
    "\\begin{alignat}{2}\n",
    "    \\min_{(x_0, y_0, z_0), P_T, Q_i} \\quad & C(t_k) = \\sum_{i=1}^{N} C_{0,i}(t_k)\\\\\n",
    "    \\textrm{s.t.} \\quad & 0 \\leq P_T \\leq P_T^{MAX}\\\\\n",
    "                        & C(t_k) \\leq C^{MAX}\\\\\n",
    "                        & 0 < T_i(t_k) \\leq C_{0,i}(t_k) , \\quad && i \\in \\{1,\\ldots,N\\}\\\\\n",
    "                        & Q_i(t_k) \\geq 0 , \\quad && i \\in \\{1,\\ldots,N\\} \\\\\n",
    "                        & D_i(t_k) < H , \\quad && i \\in \\{1,\\ldots,N\\} \\\\\n",
    "                        & 0 \\leq x_i \\leq x^{MAX} , \\quad && i \\in \\{1,\\ldots,N\\} \\\\\n",
    "                        & 0 \\leq y_i \\leq y^{MAX} , \\quad && i \\in \\{1,\\ldots,N\\} \\\\\n",
    "                        & 0 \\leq z_i \\leq z^{MAX} , \\quad && i \\in \\{1,\\ldots,N\\} \\\\\n",
    "                        & (0,i), (i,0) \\in E(t_k) , \\quad && i \\in \\{1,\\ldots,N\\} \\\\\n",
    "                        & (x_0-x_i)^2 + (y_0-y_i)^2 + (z_0-z_i)^2 > M^2 , \\quad && i \\in \\{1,\\ldots,N\\}\n",
    "\\end{alignat}\n",
    "avec ADNLP."
   ]
  },
  {
   "cell_type": "code",
   "execution_count": 77,
   "metadata": {},
   "outputs": [],
   "source": [
    "# using Pkg; \n",
    "# # Pkg.activate(\"jump\")\n",
    "# Pkg.add(\"JuMP\")\n",
    "# using JuMP\n",
    "# Pkg.add(\"Ipopt\")\n",
    "# using Ipopt\n",
    "# using MathOptInterface\n",
    "# # Pkg.activate(\"nlpmodels\")\n",
    "# Pkg.add(\"ADNLPModels\")\n",
    "# using ADNLPModels\n",
    "# Pkg.add(\"NLPModels\")\n",
    "# using NLPModels\n",
    "# Pkg.add(\"NLPModelsJuMP\")\n",
    "# using NLPModelsJuMP"
   ]
  },
  {
   "cell_type": "code",
   "execution_count": 78,
   "metadata": {},
   "outputs": [
    {
     "name": "stderr",
     "output_type": "stream",
     "text": [
      "WARNING: redefinition of constant x_arr. This may fail, cause incorrect answers, or produce other errors.\n",
      "WARNING: redefinition of constant y_arr. This may fail, cause incorrect answers, or produce other errors.\n",
      "WARNING: redefinition of constant z_arr. This may fail, cause incorrect answers, or produce other errors.\n"
     ]
    },
    {
     "data": {
      "text/plain": [
       "1×3 Matrix{Int64}:\n",
       " 10  10  10"
      ]
     },
     "metadata": {},
     "output_type": "display_data"
    }
   ],
   "source": [
    "# f = 5250*10^6\n",
    "# B = 160*10^6\n",
    "# P_N = -85\n",
    "# c = 3*10^8\n",
    "\n",
    "# x0 = 46.4\n",
    "# y0 = 12.3\n",
    "# z0 = 10\n",
    "\n",
    "\n",
    "const x_arr = [50 75 25]\n",
    "const y_arr = [75 25 25] \n",
    "const z_arr = [10 10 10]"
   ]
  },
  {
   "attachments": {},
   "cell_type": "markdown",
   "metadata": {},
   "source": [
    "La capacité se calcule à l'aide du théorème de Shannon-Hartley:\n",
    "$$\n",
    "    C_{0,i} = B\\log_2(1+SNR_i)\n",
    "$$\n",
    "Le rapport signal sur bruit s'obtient quant à lui à l'aide du modèle de propagation de Friis:\n",
    "$$\n",
    "    \\text{SNR}_i = P_T - 20\\log_{10}(d_i) - 20\\log_{10}(f) - 20\\log_{10}(\\frac{4\\pi}{c}) - P_N\n",
    "$$\n",
    "où $f$ et $P_N$ sont donnés, $c$ est la vitesse de la lumière dans le vide et \n",
    "$$\n",
    "    d_i = \\sqrt{(x_i-x_0)^2 + (y_i-y_0)^2 + (z_i-z_0)^2}.\n",
    "$$"
   ]
  },
  {
   "cell_type": "code",
   "execution_count": 79,
   "metadata": {},
   "outputs": [
    {
     "name": "stderr",
     "output_type": "stream",
     "text": [
      "\u001b[32m\u001b[1m   Resolving\u001b[22m\u001b[39m package versions...\n"
     ]
    },
    {
     "name": "stderr",
     "output_type": "stream",
     "text": [
      "\u001b[32m\u001b[1m  No Changes\u001b[22m\u001b[39m to `C:\\Users\\olivi\\MTH8408\\Project.toml`\n",
      "\u001b[32m\u001b[1m  No Changes\u001b[22m\u001b[39m to `C:\\Users\\olivi\\MTH8408\\Manifest.toml`\n"
     ]
    },
    {
     "name": "stderr",
     "output_type": "stream",
     "text": [
      "\u001b[32m\u001b[1m   Resolving\u001b[22m\u001b[39m package versions...\n"
     ]
    },
    {
     "name": "stderr",
     "output_type": "stream",
     "text": [
      "\u001b[32m\u001b[1m  No Changes\u001b[22m\u001b[39m to `C:\\Users\\olivi\\MTH8408\\Project.toml`\n",
      "\u001b[32m\u001b[1m  No Changes\u001b[22m\u001b[39m to `C:\\Users\\olivi\\MTH8408\\Manifest.toml`\n"
     ]
    },
    {
     "name": "stderr",
     "output_type": "stream",
     "text": [
      "\u001b[32m\u001b[1m   Resolving\u001b[22m\u001b[39m package versions...\n"
     ]
    },
    {
     "name": "stderr",
     "output_type": "stream",
     "text": [
      "\u001b[32m\u001b[1m  No Changes\u001b[22m\u001b[39m to `C:\\Users\\olivi\\MTH8408\\Project.toml`\n",
      "\u001b[32m\u001b[1m  No Changes\u001b[22m\u001b[39m to `C:\\Users\\olivi\\MTH8408\\Manifest.toml`"
     ]
    },
    {
     "name": "stderr",
     "output_type": "stream",
     "text": [
      "\n"
     ]
    },
    {
     "name": "stderr",
     "output_type": "stream",
     "text": [
      "\u001b[32m\u001b[1m   Resolving\u001b[22m\u001b[39m package versions...\n"
     ]
    },
    {
     "name": "stderr",
     "output_type": "stream",
     "text": [
      "\u001b[32m\u001b[1m  No Changes\u001b[22m\u001b[39m to `C:\\Users\\olivi\\MTH8408\\Project.toml`\n",
      "\u001b[32m\u001b[1m  No Changes\u001b[22m\u001b[39m to `C:\\Users\\olivi\\MTH8408\\Manifest.toml`"
     ]
    },
    {
     "name": "stderr",
     "output_type": "stream",
     "text": [
      "\n"
     ]
    }
   ],
   "source": [
    "using Pkg, ADNLPModels, NLPModelsIpopt, ForwardDiff\n",
    "# Pkg.update()\n",
    "Pkg.add(\"ADNLPModels\")\n",
    "Pkg.add(\"NLPModelsIpopt\")\n",
    "\n",
    "Pkg.add(\"Ipopt\")\n",
    "Pkg.add(\"JuMP\")\n"
   ]
  },
  {
   "cell_type": "code",
   "execution_count": 80,
   "metadata": {},
   "outputs": [
    {
     "data": {
      "text/plain": [
       "distance (generic function with 5 methods)"
      ]
     },
     "metadata": {},
     "output_type": "display_data"
    }
   ],
   "source": [
    "function distance(i, x0::T, y0::T, z0::T) where T\n",
    "    return sqrt((x_arr[i] - x0)^2 + (y_arr[i] - y0)^2 + (z_arr[i] - z0)^2)\n",
    "end"
   ]
  },
  {
   "cell_type": "code",
   "execution_count": 81,
   "metadata": {},
   "outputs": [
    {
     "data": {
      "text/plain": [
       "SNR (generic function with 6 methods)"
      ]
     },
     "metadata": {},
     "output_type": "display_data"
    }
   ],
   "source": [
    "function SNR(P_T::T, x0::T, y0::T, z0::T, i::Int) where T\n",
    "    return P_T .- 20 * log10(distance(i, x0, y0, z0)) .- 20 * log10(f) .- 20 * log10(4 * pi / c) .- P_N\n",
    "end"
   ]
  },
  {
   "cell_type": "code",
   "execution_count": null,
   "metadata": {},
   "outputs": [],
   "source": [
    "# Constants\n",
    "\n",
    "const x_arr = [50 75 25]\n",
    "const y_arr = [75 25 25] \n",
    "const z_arr = [10 10 10]\n",
    "\n",
    "N = 3\n",
    "P_max = 100\n",
    "C_max = 10^9\n",
    "x_max = 75\n",
    "y_max = 75\n",
    "z_max = 20\n",
    "H = 10\n",
    "M = 5\n",
    "f = 5250*10^6\n",
    "B = 160*10^6\n",
    "P_N = -85\n",
    "c = 3*10^8"
   ]
  },
  {
   "cell_type": "code",
   "execution_count": null,
   "metadata": {},
   "outputs": [],
   "source": [
    "# Initial guess\n",
    "x0_arr = [0.0, 0.0, 0.0, 0.0, 45.0, 12.0, 10.0]\n",
    "\n",
    "#Lower and upper bounds\n",
    "#P_T, Q[1:3], x0, y0, z0\n",
    "lvar = [0.0, 0.0, 0.0, 0.0, 0.0, 0.0, 0.0]\n",
    "uvar = [P_max, Inf, Inf, Inf, x_max, y_max, z_max]\n",
    "\n",
    "#Constraints \n",
    "lcon = [0.0]\n",
    "ucon = [C_max]"
   ]
  },
  {
   "cell_type": "code",
   "execution_count": 82,
   "metadata": {},
   "outputs": [
    {
     "name": "stdout",
     "output_type": "stream",
     "text": [
      "This is Ipopt version 3.14.10, running with linear solver MUMPS 5.5.1.\n",
      "\n",
      "Number of nonzeros in equality constraint Jacobian...:        0\n",
      "Number of nonzeros in inequality constraint Jacobian.:        0\n",
      "Number of nonzeros in Lagrangian Hessian.............:       28\n",
      "\n",
      "Total number of variables............................:        7\n",
      "                     variables with only lower bounds:        3\n",
      "                variables with lower and upper bounds:        4\n",
      "                     variables with only upper bounds:        0\n",
      "Total number of equality constraints.................:        0\n",
      "Total number of inequality constraints...............:        0\n",
      "        inequality constraints with only lower bounds:        0\n",
      "   inequality constraints with lower and upper bounds:        0\n",
      "        inequality constraints with only upper bounds:        0\n",
      "\n",
      "iter    objective    inf_pr   inf_du lg(mu)  ||d||  lg(rg) alpha_du alpha_pr  ls\n",
      "   0  1.2609803e+09 0.00e+00 1.00e+02  -1.0 0.00e+00    -  0.00e+00 0.00e+00   0\n",
      "   1  1.2550413e+09 0.00e+00 3.50e+01  -1.0 1.90e+01   0.0 7.62e-01 1.32e-02f  1\n",
      "   2  1.1372460e+09 0.00e+00 1.49e+01  -1.0 5.95e+00   0.4 9.93e-01 1.00e+00f  1\n",
      "   3  1.0246487e+09 0.00e+00 1.31e+01  -1.0 1.54e+01  -0.1 1.00e+00 3.74e-01f  1\n",
      "   4  1.0235367e+09 0.00e+00 9.18e-01  -1.0 3.61e-01   0.4 1.00e+00 1.59e-01f  1\n",
      "   5  1.0233784e+09 0.00e+00 1.62e-01  -1.7 2.05e-01  -0.1 1.00e+00 1.00e+00f  1\n",
      "   6  1.0233182e+09 0.00e+00 1.61e-01  -2.5 7.66e-02   0.3 1.00e+00 1.00e+00f  1\n",
      "   7  1.0232715e+09 0.00e+00 1.60e-01  -2.5 2.28e-01  -0.2 1.00e+00 1.00e+00f  1\n",
      "   8  1.0232543e+09 0.00e+00 1.59e-01  -2.5 8.48e-02   0.3 1.00e+00 1.00e+00f  1\n",
      "   9  1.0232041e+09 0.00e+00 1.56e-01  -2.5 2.50e-01  -0.2 1.00e+00 1.00e+00f  1\n",
      "iter    objective    inf_pr   inf_du lg(mu)  ||d||  lg(rg) alpha_du alpha_pr  ls\n",
      "  10  1.0231857e+09 0.00e+00 1.54e-01  -2.5 9.28e-02   0.2 1.00e+00 1.00e+00f  1\n",
      "  11  1.0231330e+09 0.00e+00 1.50e-01  -2.5 2.71e-01  -0.3 1.00e+00 1.00e+00f  1\n",
      "  12  1.0231139e+09 0.00e+00 1.48e-01  -2.5 1.00e-01   0.2 1.00e+00 1.00e+00f  1\n",
      "  13  1.0231069e+09 0.00e+00 1.47e-01  -2.5 3.74e-02   0.6 1.00e+00 1.00e+00f  1\n",
      "  14  1.0230863e+09 0.00e+00 1.45e-01  -2.5 1.10e-01   0.1 1.00e+00 1.00e+00f  1\n",
      "  15  1.0230787e+09 0.00e+00 1.44e-01  -2.5 4.11e-02   0.5 1.00e+00 1.00e+00f  1\n",
      "  16  1.0230565e+09 0.00e+00 1.42e-01  -2.5 1.21e-01   0.1 1.00e+00 1.00e+00f  1\n",
      "  17  1.0230484e+09 0.00e+00 1.41e-01  -2.5 4.51e-02   0.5 1.00e+00 1.00e+00f  1\n",
      "  18  1.0230249e+09 0.00e+00 1.37e-01  -2.5 1.32e-01   0.0 1.00e+00 1.00e+00f  1\n",
      "  19  1.0230164e+09 0.00e+00 1.36e-01  -2.5 4.92e-02   0.4 1.00e+00 1.00e+00f  1\n",
      "iter    objective    inf_pr   inf_du lg(mu)  ||d||  lg(rg) alpha_du alpha_pr  ls\n",
      "  20  1.0229917e+09 0.00e+00 1.33e-01  -2.5 1.44e-01  -0.0 1.00e+00 1.00e+00f  1\n",
      "  21  1.0229828e+09 0.00e+00 1.31e-01  -2.5 5.32e-02   0.4 1.00e+00 1.00e+00f  1\n",
      "  22  1.0229574e+09 0.00e+00 1.27e-01  -2.5 1.55e-01  -0.1 1.00e+00 1.00e+00f  1\n",
      "  23  1.0229482e+09 0.00e+00 1.25e-01  -2.5 5.72e-02   0.3 1.00e+00 1.00e+00f  1\n",
      "  24  1.0229223e+09 0.00e+00 1.20e-01  -2.5 1.65e-01  -0.1 1.00e+00 1.00e+00f  1\n",
      "  25  1.0229131e+09 0.00e+00 1.18e-01  -2.5 6.08e-02   0.3 1.00e+00 1.00e+00f  1\n",
      "  26  1.0228872e+09 0.00e+00 1.13e-01  -2.5 1.74e-01  -0.2 1.00e+00 1.00e+00f  1\n",
      "  27  1.0228780e+09 0.00e+00 1.11e-01  -2.5 6.41e-02   0.2 1.00e+00 1.00e+00f  1\n",
      "  28  1.0228272e+09 0.00e+00 1.46e-01  -2.5 2.53e-01  -0.2 1.00e+00 1.00e+00f  1\n",
      "  29  1.0227847e+09 0.00e+00 2.21e-01  -2.5 1.44e-01   0.2 1.00e+00 1.00e+00f  1\n",
      "iter    objective    inf_pr   inf_du lg(mu)  ||d||  lg(rg) alpha_du alpha_pr  ls\n",
      "  30  1.0227627e+09 0.00e+00 2.54e-01  -2.5 6.18e-02   0.6 1.00e+00 1.00e+00f  1\n",
      "  31  1.0226262e+09 0.00e+00 4.11e-01  -2.5 3.00e-01   0.1 1.00e+00 1.00e+00f  1\n",
      "  32  1.0225483e+09 0.00e+00 4.79e-01  -2.5 1.31e-01   0.6 1.00e+00 1.00e+00f  1\n",
      "  33  1.0219576e+09 0.00e+00 8.39e-01  -2.5 6.91e-01   0.1 1.00e+00 1.00e+00f  1\n",
      "  34  1.0215928e+09 0.00e+00 9.99e-01  -2.5 3.08e-01   0.5 1.00e+00 1.00e+00f  1\n",
      "  35  1.0182873e+09 0.00e+00 1.91e+00  -2.5 1.78e+00   0.0 1.00e+00 1.00e+00f  1\n",
      "  36  1.0161263e+09 0.00e+00 2.31e+00  -2.5 8.03e-01   0.5 1.00e+00 1.00e+00f  1\n",
      "  37  9.9410087e+08 0.00e+00 4.58e+00  -2.5 4.96e+00  -0.0 1.00e+00 1.00e+00f  1\n",
      "  38  9.9087255e+08 0.00e+00 4.79e+00  -2.5 2.13e+00   0.4 1.00e+00 2.54e-01f  1\n",
      "  39  9.9086788e+08 0.00e+00 2.11e-01  -2.5 4.65e-01  -0.1 1.00e+00 1.64e-03f  2\n",
      "iter    objective    inf_pr   inf_du lg(mu)  ||d||  lg(rg) alpha_du alpha_pr  ls\n",
      "  40  9.9086672e+08 0.00e+00 5.03e-03  -2.5 1.77e-02  -0.5 1.00e+00 1.00e+00f  1\n",
      "  41  9.9085627e+08 0.00e+00 4.34e-03  -3.8 4.58e-02  -1.0 1.00e+00 1.00e+00f  1\n",
      "  42  9.9085546e+08 0.00e+00 4.49e-03  -3.8 1.44e-01  -1.5 1.00e+00 1.00e+00f  1\n",
      "  43  9.9085281e+08 0.00e+00 4.39e-03  -3.8 4.59e-01  -2.0 1.00e+00 1.00e+00f  1\n",
      "  44  9.9084840e+08 0.00e+00 7.77e-02  -3.8 3.92e+00    -  1.00e+00 5.00e-01f  2\n",
      "  45  9.9084792e+08 0.00e+00 1.72e-03  -3.8 3.97e+03    -  1.00e+00 1.00e+00f  1\n",
      "  46  9.9084792e+08 0.00e+00 2.95e-06  -3.8 9.60e+04    -  1.00e+00 1.00e+00f  1\n",
      "  47  9.9084735e+08 0.00e+00 4.89e-09  -5.7 7.82e-04    -  1.00e+00 1.00e+00f  1\n",
      "  48  9.9084735e+08 0.00e+00 7.77e-13  -8.6 9.85e-06    -  1.00e+00 1.00e+00f  1\n",
      "  49  9.9084735e+08 0.00e+00 2.82e-14 -11.1 1.32e-08    -  1.00e+00 1.00e+00f  1\n",
      "\n",
      "Number of Iterations....: 49\n",
      "\n",
      "                                   (scaled)                 (unscaled)\n",
      "Objective...............:   7.7667856200123151e+02    9.9084734668601584e+08\n",
      "Dual infeasibility......:   2.8216629568821572e-14    3.5997353227633829e-08\n",
      "Constraint violation....:   0.0000000000000000e+00    0.0000000000000000e+00\n",
      "Variable bound violation:   1.9999850664476071e-07    1.9999850664476071e-07\n",
      "Complementarity.........:   7.1334874980047005e-12    9.1005436557995466e-06\n",
      "Overall NLP error.......:   7.1334874980047005e-12    9.1005436557995466e-06\n",
      "\n",
      "\n",
      "Number of objective function evaluations             = 60\n",
      "Number of objective gradient evaluations             = 50\n",
      "Number of equality constraint evaluations            = 0\n",
      "Number of inequality constraint evaluations          = 0\n",
      "Number of equality constraint Jacobian evaluations   = 0\n",
      "Number of inequality constraint Jacobian evaluations = 0\n",
      "Number of Lagrangian Hessian evaluations             = 49\n",
      "Total seconds in IPOPT                               = 2.412\n",
      "\n",
      "EXIT: Optimal Solution Found.\n",
      "Objective value: 9.908473466860158e8\n",
      "P_T: -9.999921932767036e-9\n",
      "Q0: 99999.99999998992\n",
      "Q1: 99999.99999998992\n",
      "Q2: 99999.99999998992\n",
      "x0: 49.99999999996324\n",
      "y0: -9.999477451553763e-9\n",
      "z0: 20.000000199998507\n"
     ]
    },
    {
     "name": "stderr",
     "output_type": "stream",
     "text": [
      "WARNING: redefinition of constant x_arr. This may fail, cause incorrect answers, or produce other errors.\n",
      "WARNING: redefinition of constant y_arr. This may fail, cause incorrect answers, or produce other errors.\n",
      "WARNING: redefinition of constant z_arr. This may fail, cause incorrect answers, or produce other errors.\n"
     ]
    }
   ],
   "source": [
    "# Objective function\n",
    "function objective_function(x)\n",
    "    P_T = x[1]\n",
    "    Q = x[2:4]\n",
    "    x0, y0, z0 = x[5], x[6], x[7]\n",
    "    cap_sum = 0.0\n",
    "    for i in 1:N\n",
    "        cap_sum += B * log2(1 + 10^(SNR(P_T, x0, y0, z0, i) / 10))\n",
    "    end\n",
    "    return cap_sum\n",
    "end\n",
    "\n",
    "# Constraints function\n",
    "function constr(G, x)\n",
    "    P_T = x[1]\n",
    "    Q = x[2:4]\n",
    "    x0, y0, z0 = x[5], x[6], x[7]\n",
    "    cap_sum = 0.0\n",
    "    for i in 1:N\n",
    "        G += B * log2(1 + 10^(SNR(P_T, x0, y0, z0, i) / 10))\n",
    "    end\n",
    "end"
   ]
  },
  {
   "cell_type": "code",
   "execution_count": null,
   "metadata": {},
   "outputs": [],
   "source": [
    "# Create ADNLPModel\n",
    "model = ADNLPModel(objective_function, x0_arr, lvar, uvar, con=constr, lcon=lcon, ucon=ucon)\n",
    "\n",
    "# Define solver and solve the model\n",
    "output = ipopt(model)\n",
    "\n",
    "# Print results\n",
    "println(\"Objective value: \", objective_function(output.solution))\n",
    "println(\"P_T: \", output.solution[1])\n",
    "println(\"Q0: \", output.solution[2])\n",
    "println(\"Q1: \", output.solution[3])\n",
    "println(\"Q2: \", output.solution[4])\n",
    "println(\"x0: \", output.solution[5])\n",
    "println(\"y0: \", output.solution[6])\n",
    "println(\"z0: \", output.solution[7])"
   ]
  }
 ],
 "metadata": {
  "kernelspec": {
   "display_name": "Julia 1.8.4",
   "language": "julia",
   "name": "julia-1.8"
  },
  "language_info": {
   "file_extension": ".jl",
   "mimetype": "application/julia",
   "name": "julia",
   "version": "1.8.4"
  },
  "orig_nbformat": 4
 },
 "nbformat": 4,
 "nbformat_minor": 2
}
